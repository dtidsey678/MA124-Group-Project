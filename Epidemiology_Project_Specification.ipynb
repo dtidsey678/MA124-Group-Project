{
 "cells": [
  {
   "cell_type": "markdown",
   "metadata": {},
   "source": [
    "#### MA124 Maths by Computer\n",
    "# Project: Modelling in Epidemiology"
   ]
  },
  {
   "cell_type": "markdown",
   "metadata": {},
   "source": [
    "#### Background\n",
    "Epidemiological models are increasingly used during infectious disease outbreaks to make outbreak projections and to guide control interventions. This project involves developing simple computational models of outbreaks and using them to predict the effects of different interventions. It also involves using stochastic epidemiological models (models that include randomness) to predict the risk that early cases at the beginning of an outbreak lead on to a major epidemic (with a large number of cases) as opposed to fade out as a minor outbreak (with a small number of cases). \n",
    "\n",
    "If more details are required about the background epidemiological modelling theory, please rewatch the Epidemiology Lecture (\"Recording of Robin Thompson's lecture about the Epidemiology project, 12/01/23\"; available on the MA124 moodle page).\n",
    "\n",
    "#### Structure of project\n",
    "There are six tasks in the document below, tasks A1-A5 and then task B1. Your group should do all six of these tasks. Tasks A1-A5 are worth approximately 60% of the credit for this submission and task B1 is worth the rest (approximately 40%).\n",
    "\n",
    "#### Notes about submission\n",
    "Read through the document **MA124 Maths by Computer Tutor Group Projects_Information for Students_23_24.pdf** on the MA124 Moodle page.\n",
    "\n",
    "Before submitting see the notes at the end of this document.\n",
    "\n",
    "#### Allowed libraries for this project \n",
    "Python libraries/modules should be used as required to complete the tasks in this project, with no restrictions."
   ]
  },
  {
   "cell_type": "markdown",
   "metadata": {},
   "source": [
    "## Section A (worth approximately 60% of the marks)\n",
    "\n",
    "## The Deterministic SIR model"
   ]
  },
  {
   "cell_type": "markdown",
   "metadata": {},
   "source": [
    "In the Epidemiology lecture, you met the deterministic SIR model given by a system of three ODEs.\n",
    "\n",
    "This part of the assignment builds on the \"Epidemiology I code\" notebook, which provides code for numerically solving the SIR model in Python. We are interested in extensions to the SIR model as presented there: specifically, extensions involving public health measures such as vaccination and social distancing.\n",
    "\n",
    "Note: You are expected to add code and markdown cells to this document as appropriate to provide your responses to the tasks. However, throughout this assignment, please do use the deterministic and stochastic SIR model codes from the Epidemiology I and Epidemiology II code notebooks as required (i.e., you are supposed to copy that code across and adapt it, rather than start coding from scratch).\n",
    "\n",
    "---"
   ]
  },
  {
   "cell_type": "markdown",
   "metadata": {},
   "source": [
    "## Task A1. Baseline case (worth approximately 12% of the marks)\n",
    "**Assignment:** Using Python, solve the deterministic SIR model numerically and examine the solution for one set of parameter values and one initial condition. Then, adapt the code to rerun the analysis multiple times for different infection rates.\n",
    "\n",
    "Details: \n",
    "- Use the following parameter values for the baseline case (where, throughout this Assignment, time is measured in days): $\\beta = 2 \\times 10^{-5}$, $\\mu = 0.1$, $N = 10^{4}$.\n",
    "- Initiate the numerical solution starting with 3 infected individuals, with the remainder of the population susceptible.\n",
    "- Produce two plots: a time-series showing $S(t)$, $I(t)$ and $R(t)$ and a phase plane (in the $(S,I)$ plane).\n",
    "- On both plots, indicate the point on the trajectory where $I$ reaches its maximum as black circles, and print this maximum value (when you print the value, round this value to the largest integer that is less than this value).\n",
    "- Now repeat this analysis a large number of times for different values of $\\beta$ (without generating a figure each time; so as to not generate a huge number of figures!) Plot the maximum value of $I$ as a function of $\\beta$, choosing an appropriate range of values of $\\beta$ (and sufficiently many values) to be able to see the dependence clearly.\n",
    "\n",
    "Hint: You might like to Google the appropriate NumPy function that finds the maximum value in a vector. For the last part, use a FOR loop rather than changing the value of $\\beta$ manually.\n",
    "\n",
    "Once you have completed this, you might like to help your team member who is doing Task A4 below!\n",
    "\n",
    "*Insert code and markdown cells below, as appropriate, in which to provide your response to this task.*\n",
    "\n",
    "---"
   ]
  },
  {
   "cell_type": "markdown",
   "metadata": {},
   "source": [
    "## Task A2. The effect of vaccination (worth approximately 12% of the marks)\n",
    "**Assignment:** Using Python, solve the deterministic SIR model numerically for different numbers of individuals vaccinated. \n",
    "\n",
    "Details:\n",
    "- Use the following parameter values for the baseline case: $\\beta = 2 \\times 10^{-5}$, $\\mu = 0.1$, $N = 10^{4}$.\n",
    "- Assume that each simulation starts with 5 infected individuals (with the remainder of the population susceptible, other than those who have been vaccinated).\n",
    "- Assume that vaccination involves simply withdrawing susceptible individuals from the population (to a new $V$ compartment, which is different to the removed ($R$) compartment) instantaneously at the start of the numerical simulation, and that vaccination is perfectly effective.\n",
    "- Make a plot of the total number of individuals who are either infected or removed (i.e., $I+R$) after 500 days as a function of the number of vaccinated hosts. Hint: This will require running the SIR model multiple times (once for each value of the number of vaccinated individuals, $V$) using a FOR loop.\n",
    "- Add markers to the plot corresponding to the (strictly positive) numerical solution of the final size equation (explained in the Lecture and below), in which $N$ is simply reduced by $V$, for values of i) $V = 1000$; ii) $V = 2000$; iii) $V = 3000$.\n",
    "- Include a derivation of the final size equation in your answer to this task.\n",
    "\n",
    "- Hint: Recall that the final size equation is $x = N - N \\rm{exp} \\left( -\\frac{\\beta x}{\\mu} \\right)$ in a scenario without vaccination (vaccination then corresponds to reducing the value of $N$). You will have to look up an appropriate Python function to solve this equation numerically. To find the strictly positive solution (rather than the solution $x = 0$) numerically, a sufficiently large \"initial guess\" may need to be input to the relevant Python function.\n",
    "\n",
    "*Insert code and markdown cells below, as appropriate, in which to provide your response to this task.*\n",
    "\n",
    "---"
   ]
  },
  {
   "cell_type": "markdown",
   "metadata": {
    "tags": []
   },
   "source": [
    "## Task A3. The effect of social distancing (worth approximately 12% of the marks)\n",
    "\n",
    "The introduction and/or removal of social distancing can be modelled by varying the infection rate parameter, $\\beta$. In this exercise, we will use the following time-dependent infection rate parameter:\n",
    "\n",
    "$$\n",
    "\\beta(t)  = 2 \\times 10^{-7} \\text{  whenever  } t < T, \\\\\n",
    "\\beta(t)  = 1.5 \\times 10^{-7} \\text{  whenever  } T \\le t \\le T + 30, \\\\\n",
    "\\beta(t)  = 2 \\times 10^{-7} \\text{  whenever  } t > T + 30. \\\\\n",
    "$$\n",
    "\n",
    "**Assignment:** Using Python, run the deterministic SIR model for the social distancing strategy described above.\n",
    "\n",
    "Details:\n",
    "- For this task, use the values $\\mu = 0.1$, $N = 10^{6}$, and assume that the initial values of $(S,I,R)$ are $(N-5,5,0)$.\n",
    "- Run the SIR model, adapted according to the time-dependent value of $\\beta$ described above, for a value of $T = 30$ days. Plot a time-series showing $S(t)$, $I(t)$ and $R(t)$.\n",
    "- Consider a scenario in which $T$ is not necessarily 30 days, and can instead take a fixed integer value between 1 and 200 days. Write a FOR loop to identify the value of $T$ that minimises the maximum value of $I$ in the model simulation. Plot the maximum value of $I$ as a function of $T$, and print the value of $T$ that \"flattens the curve\" most.\n",
    "\n",
    "*Insert code and markdown cells below, as appropriate, in which to provide your response to this task.*\n",
    "\n",
    "---"
   ]
  },
  {
   "cell_type": "markdown",
   "metadata": {},
   "source": [
    "## The Stochastic SIR model\n",
    "\n",
    "\n",
    "This part of the assignment builds on the \"Epidemiology II code\" notebook, which provides code for running one simulation of the stochastic SIR model in Python. We are interested in running simulations to compare the dynamics of the deterministic SIR model and stochastic SIR model, and to estimate the probability of a major outbreak when a single infected individual enters an entirely susceptible population using the stochastic SIR model.\n",
    "\n",
    "---"
   ]
  },
  {
   "cell_type": "markdown",
   "metadata": {},
   "source": [
    "## Task A4. Comparison between the stochastic and deterministic SIR models (worth approximately 12% of the marks)\n",
    "\n",
    "**Assignment:** The end goal of this task is to run 100 simulations of the stochastic SIR model, generate a plot showing the mean value of $I(t)$ (averaged across all of the simulations) versus $t$, and then compare this output to the analogous output from the deterministic SIR model.\n",
    "\n",
    "Details: \n",
    "- We will use the following parameter values for the baseline case (where, throughout this assignment, time is measured in days): $\\beta = 3 \\times 10^{-4}$, $\\mu = 0.1$, $N = 10^{3}$.\n",
    "- In each simulation, there will be 10 individuals infected initially (with the rest of the population susceptible).\n",
    "- The most challenging part of this task is that, in each simulation, events will occur at different times. As a result, we have to write code that, for each simulation, extracts the value of $I(t)$ at a set of pre-defined values of $t$. One way to do this is to set up a vector at the beginning of the simulation containing 201 blank entries (corresponding to $t = 0, 0.5, 1, 1.5, ..., 100$), and then populate the relevant entries after each event (i.e. put the value of $I$ before the current event in all entries corresponding to times between the last event time and the current one). This vector can then be averaged across all simulations.\n",
    "- The code in the Python notebook entitled \"Epidemiology_Part_A4_with_Errors\" is a first attempt at writing such code (i.e. code that outputs a vector $I_{vals}$ with entries recording the values of $I$ at $t = 0, 0.5, 1, 1.5, ..., 100$) for a single simulation of the stochastic SIR model, but it contains three mistakes. Correct this code (and then copy the resulting code into your answer to this task in this notebook).\n",
    "- Now that you have corrected the code described above, run 100 simulations of the stochastic SIR model and plot the average values of the vector $I_{vals}$, plotted at $t = 0, 0.5, 1, 1.5, ..., 100$.\n",
    "- Finally, on the same axes, plot the analogous numerical solution of the determinstic SIR model. The team member who completed Task A1 (above) should be able to help you with this.\n",
    "\n",
    "*Insert code and markdown cells below, as appropriate, in which to provide your response to this task.*\n",
    "\n",
    "---"
   ]
  },
  {
   "cell_type": "markdown",
   "metadata": {},
   "source": [
    "## Task A5. The probability of a major outbreak (worth approximately 12% of the marks)\n",
    "\n",
    "**Assignment:** Run 1000 simulations of the stochastic SIR model, starting from a single infected individual (with the remainder of the population susceptible). Count the number of simulations in which $I+R$ exceeds 10 before the disease fades out ($I$ hits zero), and compare this to the analytic estimate for the \"probability of a major outbreak\" described in the Lecture.\n",
    "\n",
    "Details: \n",
    "- Use the following parameter values for the baseline case (where time is again measured in days): $\\beta = 3 \\times 10^{-4}$, $\\mu = 0.1$, $N = 10^{3}$.\n",
    "- Recall from the lecture that the analytic estimate for the probability of a major outbreak is $p = 1 - \\frac{1}{R_0}$, where $R_0 = \\frac{\\beta N}{\\mu}$.\n",
    "- Run 1000 simulations of the stochastic SIR model. Calculate (and print) the proportion of simulations in which the final value of $I+R$ exceeds 10.\n",
    "- Calculate and print the analogous analytic estimate for the probability of a major outbreak.\n",
    "\n",
    "- Hint: To run 1000 simulations of the stochastic SIR model, you will need to use a FOR loop. To run the simulations more quickly, you do not have to store the values of $t$, $S$, $I$ and $R$ after every event (instead, simply store the value of $I + R$ at the end of the simulation).\n",
    "\n",
    "*Insert code and markdown cells below, as appropriate, in which to provide your response to this task.*\n",
    "\n",
    "---"
   ]
  },
  {
   "cell_type": "markdown",
   "metadata": {},
   "source": [
    "## Section B (worth approximately 40% of the marks)\n",
    "\n",
    "## Task B1. Extensions\n",
    "**Assignment:** Using Python, write code to complete the following exercises:\n",
    "\n",
    "- Consider the variable $M$, which represents the total number of individuals ever infected over the entire course of a simulation of the stochastic SIR model (run until $I$ hits zero) - i.e. the final value of $I + R$. Plot a graph of ${\\rm Prob}(M > m)$ as a function of $m$, for the default parameter values described in Task A5 above (compute the probability by running a large number of stochastic simulations and calculating the proportion of simulations in which $M>m$). Hint: You only have to run the simulations once (rather than running multiple simulations for each value of $m$).\n",
    "- Add a vertical line to the plot marking the value of $m$ that corresponds to the (positive) solution to the \"final size equation\" described in the Lecture (note: you will have to look up an appropriate Python function to solve this equation numerically, as in Task A2 above).\n",
    "- Now instead consider the stochastic SIS model described in the paper \"Will an outbreak exceed available resources for control? Estimating the risk from invading pathogens using practical definitions of a severe epidemic\" by Thompson, Gilligan and Cunniffe (https://royalsocietypublishing.org/doi/epdf/10.1098/rsif.2020.0690). The key difference between the stochastic SIR model and the stochastic SIS model is that, in the stochastic SIS model, individuals go back into the $S$ compartment when they recover (rather than entering the $R$ compartment). Pick either the \"Final size\" or \"Duration\" definition of a severe epidemic described in that paper, and write code to reproduce the relevant figure from that article using model simulations (either Fig 4a or Fig 4b; n.b. you are only required to reproduce the solid lines in the chosen figure). Hint: You do not have to simulate the model until $I$ hits zero to make this figure - that might take a very long time. Instead, you can stop each simulation as soon as the relevant maximum value on the x-axis is exceeded (or when $I$ hits zero, if that occurs first).\n",
    "- Most of this Assignment involved using deterministic and stochastic versions of the basic SIR model. However, the SIR model is quite simple and does not include some important features that affect transmission of pathogens in the real world. Do some research into ways that the SIR model can be extended to include additional real-world realism. Write one or two paragraphs to summarise your findings (including noting some pathogens/diseases for which the extensions that you explain are appropriate).\n",
    "\n",
    "*Insert code and markdown cells below, as appropriate, in which to provide your response to this task.*\n",
    "\n",
    "\n",
    "---"
   ]
  },
  {
   "cell_type": "markdown",
   "metadata": {
    "tags": []
   },
   "source": [
    "## Notes about this submission"
   ]
  },
  {
   "cell_type": "markdown",
   "metadata": {},
   "source": [
    "You will submit a single Jupyter notebook for this project assignment (this notebook, with your additions).\n",
    "\n",
    "- The last thing you should do before submitting the notebook is to Restart Kernel and Run All Cells. You should then save the notebook and submit the .ipynb file. **You will lose marks if you submit a notebook that has not been run.**\n",
    "\n",
    "- You are expected to add code and markdown cells to this document as appropriate to provide your responses to the tasks. However, throughout this assignment, please do use the deterministic and stochastic SIR model codes from the Epidemiology I and Epidemiology II code notebooks as required (i.e., you are supposed to copy that code across and adapt it, rather than start coding from scratch).\n",
    "\n",
    "- This assignment lends itself to producing a nice document. A good guide for what the final notebook should be like is: if the notebook is run and all code cells and task descriptions are collapsed, the notebook should be readable as a short report, primarily consisting of a short introduction to each section followed by figures and descriptions of the figures.\n",
    "\n",
    "- Use the comments in the \"Epidemiology I code\" notebook as a guide to the level of code commenting expected. Each code cell should begin with a comment line or lines concisely stating what the cell is for (alternatively, precede the code cell with a markdown cell explaining what you are about to do). Functions should have comments describing what they do. It can be assumed that the reader understands Python to a basic level (e.g. comments like \"Create an array\" or \"Make a plot\" on every line are unnecessary). Add comments to set off blocks of code or to note anything tricky.\n",
    "\n",
    "---"
   ]
  }
 ],
 "metadata": {
  "kernelspec": {
   "display_name": "Python 3",
   "language": "python",
   "name": "python3"
  },
  "language_info": {
   "codemirror_mode": {
    "name": "ipython",
    "version": 3
   },
   "file_extension": ".py",
   "mimetype": "text/x-python",
   "name": "python",
   "nbconvert_exporter": "python",
   "pygments_lexer": "ipython3",
   "version": "3.8.5"
  }
 },
 "nbformat": 4,
 "nbformat_minor": 5
}
