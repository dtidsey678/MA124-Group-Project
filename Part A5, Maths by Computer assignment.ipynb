{
 "cells": [
  {
   "cell_type": "code",
   "execution_count": 1,
   "id": "866f0735",
   "metadata": {},
   "outputs": [],
   "source": [
    "# import libraries\n",
    "\n",
    "import numpy as np # Import NumPy library. The \"np\" bit tells Python to give NumPy the alias of np. So now we can call \"np\" rather than \"numpy\".\n",
    "import matplotlib.pyplot as plt"
   ]
  },
  {
   "cell_type": "code",
   "execution_count": 2,
   "id": "9dc07392",
   "metadata": {},
   "outputs": [
    {
     "name": "stdout",
     "output_type": "stream",
     "text": [
      "0.6666666666666667 0.644\n"
     ]
    }
   ],
   "source": [
    "# Parameter values\n",
    "beta = 3.0*10**-4\n",
    "mu = 0.1\n",
    "\n",
    "#Number of simulations with I+R>10\n",
    "count=0\n",
    "\n",
    "#Start loop to do the 1000 simulations\n",
    "for k in range(1,1001):\n",
    "    \n",
    "    #Set-up the parameters\n",
    "    S = 10**3 - 1\n",
    "    I = 1\n",
    "    R = 0\n",
    "    t = 0\n",
    "    N = 10**3\n",
    "\n",
    "    # --- While the outbreak is ongoing (I > 0), generate events --- #\n",
    "\n",
    "    while I>0:\n",
    "\n",
    "        r1 = np.random.uniform(0, 1, 1)\n",
    "        totalRate = beta*I*S + mu*I\n",
    "        t = t - (1/totalRate)*np.log(r1)\n",
    "\n",
    "        r2 = np.random.uniform(0, 1, 1)\n",
    "        if r2 < beta*I*S/totalRate:\n",
    "            S = S - 1\n",
    "            I = I + 1\n",
    "        else:\n",
    "            I = I - 1\n",
    "            R = R + 1\n",
    "    \n",
    "        #Find if I+R>10, if so, stop the while loop\n",
    "        if I+R>10:\n",
    "            count+=1\n",
    "            I=0\n",
    "\n",
    "#Analytic estimate for the porbability of a major outbreak\n",
    "p=1-(mu/(beta*N))\n",
    "\n",
    "#Proportion of simulations with I+R>10 at some point (before I=0)\n",
    "prop=count*0.001\n",
    "\n",
    "print(p,prop)\n"
   ]
  },
  {
   "cell_type": "code",
   "execution_count": null,
   "id": "146ba4ec",
   "metadata": {},
   "outputs": [],
   "source": []
  }
 ],
 "metadata": {
  "kernelspec": {
   "display_name": "Python 3 (ipykernel)",
   "language": "python",
   "name": "python3"
  },
  "language_info": {
   "codemirror_mode": {
    "name": "ipython",
    "version": 3
   },
   "file_extension": ".py",
   "mimetype": "text/x-python",
   "name": "python",
   "nbconvert_exporter": "python",
   "pygments_lexer": "ipython3",
   "version": "3.9.12"
  }
 },
 "nbformat": 4,
 "nbformat_minor": 5
}
