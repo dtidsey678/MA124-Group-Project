{
 "cells": [
  {
   "cell_type": "code",
   "execution_count": 1,
   "id": "cdf09f1f",
   "metadata": {},
   "outputs": [],
   "source": [
    "# import libraries\n",
    "import numpy as np\n",
    "import matplotlib.pyplot as plt\n",
    "from scipy.optimize import fsolve\n",
    "\n",
    "# Parameter values\n",
    "beta = 3.0*10**-4\n",
    "mu = 0.1\n",
    "N=10**3\n",
    "\n",
    "#Set the number of sampels wanted\n",
    "S=10000"
   ]
  },
  {
   "cell_type": "code",
   "execution_count": 2,
   "id": "6ccb47a6",
   "metadata": {},
   "outputs": [],
   "source": [
    "#Function runs a simulation and returns the value of R\n",
    "def totalR():\n",
    "    # Set initial conditions and the initial time\n",
    "    S = 10**3 - 1\n",
    "    I = 1\n",
    "    R = 0\n",
    "    t = 0\n",
    "\n",
    "    # --- While the outbreak is ongoing (I > 0), generate events --- #\n",
    "    while I > 0:\n",
    "\n",
    "        r1 = np.random.uniform(0, 1, 1)\n",
    "        totalRate = beta*I*S + mu*I\n",
    "        t = t - (1/totalRate)*np.log(r1)\n",
    "\n",
    "        r2 = np.random.uniform(0, 1, 1)\n",
    "        if r2 < beta*I*S/totalRate:\n",
    "            S = S - 1\n",
    "            I = I + 1\n",
    "        else:\n",
    "            I = I - 1\n",
    "            R = R + 1\n",
    "    return R"
   ]
  },
  {
   "cell_type": "code",
   "execution_count": 3,
   "id": "160ee72b",
   "metadata": {},
   "outputs": [],
   "source": [
    "#For loop to create the samples and store them in an array\n",
    "samples=np.array([])\n",
    "for k in range(0,S):\n",
    "    samples=np.append(samples, totalR())"
   ]
  },
  {
   "cell_type": "code",
   "execution_count": 4,
   "id": "ff2574c9",
   "metadata": {},
   "outputs": [],
   "source": [
    "#Function that finds the Prob(M>m) for each value of m using the generated samples\n",
    "def prop(m):\n",
    "    count=0\n",
    "    for k in range(0,S):\n",
    "        if samples[k]>m:\n",
    "            count+=1\n",
    "    return count/S"
   ]
  },
  {
   "cell_type": "code",
   "execution_count": 5,
   "id": "0d959115",
   "metadata": {},
   "outputs": [],
   "source": [
    "j=1000\n",
    "mvals=np.linspace(0,j,j+1)\n",
    "mresults=np.array([])\n",
    "for k in range(0,j+1):\n",
    "    mresults=np.append(mresults,prop(k))\n"
   ]
  },
  {
   "cell_type": "code",
   "execution_count": 6,
   "id": "5f737faf",
   "metadata": {},
   "outputs": [],
   "source": [
    "#Solving the initial size equation for the initial conditions given\n",
    "def f(x):\n",
    "    return x+(N*np.exp(-1*beta*x/mu))-N\n",
    "solution=fsolve(f,1000)"
   ]
  },
  {
   "cell_type": "code",
   "execution_count": 7,
   "id": "4329e2cd",
   "metadata": {},
   "outputs": [
    {
     "data": {
      "image/png": "[encoded data removed]",
      "text/plain": [
       "<Figure size 640x480 with 1 Axes>"
      ]
     },
     "metadata": {},
     "output_type": "display_data"
    }
   ],
   "source": [
    "#Plotting the graph of m against Prob(M>m) and the final size value\n",
    "plt.plot(mvals,mresults,label=\"Prob(M>m)\")\n",
    "plt.vlines(x=solution, ymin=0, ymax=1, color=\"red\",label=\"Final size value R(∞)\")\n",
    "plt.ylabel(\"Prob(M>m)\")\n",
    "plt.xlabel(\"m\")\n",
    "plt.legend()\n",
    "plt.show()"
   ]
  }
 ],
 "metadata": {
  "kernelspec": {
   "display_name": "Python 3 (ipykernel)",
   "language": "python",
   "name": "python3"
  },
  "language_info": {
   "codemirror_mode": {
    "name": "ipython",
    "version": 3
   },
   "file_extension": ".py",
   "mimetype": "text/x-python",
   "name": "python",
   "nbconvert_exporter": "python",
   "pygments_lexer": "ipython3",
   "version": "3.9.13"
  }
 },
 "nbformat": 4,
 "nbformat_minor": 5
}
